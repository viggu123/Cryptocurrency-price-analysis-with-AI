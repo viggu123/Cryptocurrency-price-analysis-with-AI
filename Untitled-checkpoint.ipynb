{
 "cells": [
  {
   "cell_type": "code",
   "execution_count": 59,
   "id": "2e9cca56",
   "metadata": {},
   "outputs": [],
   "source": [
    "import pandas as pd\n",
    "from sklearn.model_selection import train_test_split\n",
    "from sklearn.metrics import accuracy_score\n",
    "from sklearn import svm\n",
    "from sklearn.linear_model import LinearRegression\n",
    "\n",
    "import seaborn as sns\n",
    "import numpy as np\n",
    "import matplotlib.pyplot as plt"
   ]
  },
  {
   "cell_type": "code",
   "execution_count": 60,
   "id": "f25aad3a",
   "metadata": {},
   "outputs": [
    {
     "data": {
      "text/html": [
       "<div>\n",
       "<style scoped>\n",
       "    .dataframe tbody tr th:only-of-type {\n",
       "        vertical-align: middle;\n",
       "    }\n",
       "\n",
       "    .dataframe tbody tr th {\n",
       "        vertical-align: top;\n",
       "    }\n",
       "\n",
       "    .dataframe thead th {\n",
       "        text-align: right;\n",
       "    }\n",
       "</style>\n",
       "<table border=\"1\" class=\"dataframe\">\n",
       "  <thead>\n",
       "    <tr style=\"text-align: right;\">\n",
       "      <th></th>\n",
       "      <th>Unnamed: 0</th>\n",
       "      <th>open</th>\n",
       "      <th>high</th>\n",
       "      <th>low</th>\n",
       "      <th>close</th>\n",
       "      <th>volume</th>\n",
       "      <th>marketCap</th>\n",
       "      <th>timestamp</th>\n",
       "      <th>crypto_name</th>\n",
       "      <th>date</th>\n",
       "    </tr>\n",
       "  </thead>\n",
       "  <tbody>\n",
       "    <tr>\n",
       "      <th>0</th>\n",
       "      <td>0</td>\n",
       "      <td>112.900002</td>\n",
       "      <td>118.800003</td>\n",
       "      <td>107.142998</td>\n",
       "      <td>115.910004</td>\n",
       "      <td>0.0</td>\n",
       "      <td>1.288693e+09</td>\n",
       "      <td>2013-05-05T23:59:59.999Z</td>\n",
       "      <td>Bitcoin</td>\n",
       "      <td>2013-05-05</td>\n",
       "    </tr>\n",
       "    <tr>\n",
       "      <th>1</th>\n",
       "      <td>1</td>\n",
       "      <td>3.493130</td>\n",
       "      <td>3.692460</td>\n",
       "      <td>3.346060</td>\n",
       "      <td>3.590890</td>\n",
       "      <td>0.0</td>\n",
       "      <td>6.229819e+07</td>\n",
       "      <td>2013-05-05T23:59:59.999Z</td>\n",
       "      <td>Litecoin</td>\n",
       "      <td>2013-05-05</td>\n",
       "    </tr>\n",
       "    <tr>\n",
       "      <th>2</th>\n",
       "      <td>2</td>\n",
       "      <td>115.980003</td>\n",
       "      <td>124.663002</td>\n",
       "      <td>106.639999</td>\n",
       "      <td>112.300003</td>\n",
       "      <td>0.0</td>\n",
       "      <td>1.249023e+09</td>\n",
       "      <td>2013-05-06T23:59:59.999Z</td>\n",
       "      <td>Bitcoin</td>\n",
       "      <td>2013-05-06</td>\n",
       "    </tr>\n",
       "    <tr>\n",
       "      <th>3</th>\n",
       "      <td>3</td>\n",
       "      <td>3.594220</td>\n",
       "      <td>3.781020</td>\n",
       "      <td>3.116020</td>\n",
       "      <td>3.371250</td>\n",
       "      <td>0.0</td>\n",
       "      <td>5.859436e+07</td>\n",
       "      <td>2013-05-06T23:59:59.999Z</td>\n",
       "      <td>Litecoin</td>\n",
       "      <td>2013-05-06</td>\n",
       "    </tr>\n",
       "    <tr>\n",
       "      <th>4</th>\n",
       "      <td>4</td>\n",
       "      <td>112.250000</td>\n",
       "      <td>113.444000</td>\n",
       "      <td>97.699997</td>\n",
       "      <td>111.500000</td>\n",
       "      <td>0.0</td>\n",
       "      <td>1.240594e+09</td>\n",
       "      <td>2013-05-07T23:59:59.999Z</td>\n",
       "      <td>Bitcoin</td>\n",
       "      <td>2013-05-07</td>\n",
       "    </tr>\n",
       "  </tbody>\n",
       "</table>\n",
       "</div>"
      ],
      "text/plain": [
       "   Unnamed: 0        open        high         low       close  volume  \\\n",
       "0           0  112.900002  118.800003  107.142998  115.910004     0.0   \n",
       "1           1    3.493130    3.692460    3.346060    3.590890     0.0   \n",
       "2           2  115.980003  124.663002  106.639999  112.300003     0.0   \n",
       "3           3    3.594220    3.781020    3.116020    3.371250     0.0   \n",
       "4           4  112.250000  113.444000   97.699997  111.500000     0.0   \n",
       "\n",
       "      marketCap                 timestamp crypto_name        date  \n",
       "0  1.288693e+09  2013-05-05T23:59:59.999Z     Bitcoin  2013-05-05  \n",
       "1  6.229819e+07  2013-05-05T23:59:59.999Z    Litecoin  2013-05-05  \n",
       "2  1.249023e+09  2013-05-06T23:59:59.999Z     Bitcoin  2013-05-06  \n",
       "3  5.859436e+07  2013-05-06T23:59:59.999Z    Litecoin  2013-05-06  \n",
       "4  1.240594e+09  2013-05-07T23:59:59.999Z     Bitcoin  2013-05-07  "
      ]
     },
     "execution_count": 60,
     "metadata": {},
     "output_type": "execute_result"
    }
   ],
   "source": [
    "df=pd.read_csv(\"cryptocurreny.csv\")\n",
    "df.head()"
   ]
  },
  {
   "cell_type": "code",
   "execution_count": 61,
   "id": "f3ba33ee",
   "metadata": {},
   "outputs": [],
   "source": [
    "df=df.drop(columns=(['timestamp','date']))"
   ]
  },
  {
   "cell_type": "code",
   "execution_count": 62,
   "id": "f2004009",
   "metadata": {},
   "outputs": [],
   "source": [
    "df.fillna(0, inplace=True)"
   ]
  },
  {
   "cell_type": "code",
   "execution_count": 63,
   "id": "e3ea2865",
   "metadata": {},
   "outputs": [],
   "source": [
    "X=df[['open','high','low','close','volume']]"
   ]
  },
  {
   "cell_type": "code",
   "execution_count": 64,
   "id": "77c0c862",
   "metadata": {},
   "outputs": [],
   "source": [
    "y=df[['marketCap']]"
   ]
  },
  {
   "cell_type": "code",
   "execution_count": 65,
   "id": "0e3a9bb6",
   "metadata": {},
   "outputs": [
    {
     "data": {
      "text/html": [
       "<div>\n",
       "<style scoped>\n",
       "    .dataframe tbody tr th:only-of-type {\n",
       "        vertical-align: middle;\n",
       "    }\n",
       "\n",
       "    .dataframe tbody tr th {\n",
       "        vertical-align: top;\n",
       "    }\n",
       "\n",
       "    .dataframe thead th {\n",
       "        text-align: right;\n",
       "    }\n",
       "</style>\n",
       "<table border=\"1\" class=\"dataframe\">\n",
       "  <thead>\n",
       "    <tr style=\"text-align: right;\">\n",
       "      <th></th>\n",
       "      <th>marketCap</th>\n",
       "    </tr>\n",
       "  </thead>\n",
       "  <tbody>\n",
       "    <tr>\n",
       "      <th>6176</th>\n",
       "      <td>2.157848e+08</td>\n",
       "    </tr>\n",
       "    <tr>\n",
       "      <th>15666</th>\n",
       "      <td>1.216991e+10</td>\n",
       "    </tr>\n",
       "    <tr>\n",
       "      <th>33014</th>\n",
       "      <td>9.216426e+07</td>\n",
       "    </tr>\n",
       "    <tr>\n",
       "      <th>49690</th>\n",
       "      <td>1.418243e+09</td>\n",
       "    </tr>\n",
       "    <tr>\n",
       "      <th>1121</th>\n",
       "      <td>5.683725e+09</td>\n",
       "    </tr>\n",
       "    <tr>\n",
       "      <th>...</th>\n",
       "      <td>...</td>\n",
       "    </tr>\n",
       "    <tr>\n",
       "      <th>22969</th>\n",
       "      <td>2.398919e+08</td>\n",
       "    </tr>\n",
       "    <tr>\n",
       "      <th>12527</th>\n",
       "      <td>4.365218e+09</td>\n",
       "    </tr>\n",
       "    <tr>\n",
       "      <th>27966</th>\n",
       "      <td>4.251964e+07</td>\n",
       "    </tr>\n",
       "    <tr>\n",
       "      <th>13756</th>\n",
       "      <td>3.282308e+09</td>\n",
       "    </tr>\n",
       "    <tr>\n",
       "      <th>60963</th>\n",
       "      <td>1.878395e+09</td>\n",
       "    </tr>\n",
       "  </tbody>\n",
       "</table>\n",
       "<p>58356 rows × 1 columns</p>\n",
       "</div>"
      ],
      "text/plain": [
       "          marketCap\n",
       "6176   2.157848e+08\n",
       "15666  1.216991e+10\n",
       "33014  9.216426e+07\n",
       "49690  1.418243e+09\n",
       "1121   5.683725e+09\n",
       "...             ...\n",
       "22969  2.398919e+08\n",
       "12527  4.365218e+09\n",
       "27966  4.251964e+07\n",
       "13756  3.282308e+09\n",
       "60963  1.878395e+09\n",
       "\n",
       "[58356 rows x 1 columns]"
      ]
     },
     "execution_count": 65,
     "metadata": {},
     "output_type": "execute_result"
    }
   ],
   "source": [
    "X_train, X_test, y_train, y_test = train_test_split(X, y, test_size=0.2)\n",
    "y_train"
   ]
  },
  {
   "cell_type": "code",
   "execution_count": 66,
   "id": "d2d8b4da",
   "metadata": {},
   "outputs": [
    {
     "data": {
      "text/plain": [
       "LinearRegression()"
      ]
     },
     "execution_count": 66,
     "metadata": {},
     "output_type": "execute_result"
    }
   ],
   "source": [
    "rfc = LinearRegression()\n",
    "rfc.fit(X_train, y_train)"
   ]
  },
  {
   "cell_type": "code",
   "execution_count": 71,
   "id": "6ff8f0db",
   "metadata": {},
   "outputs": [],
   "source": [
    "from sklearn.ensemble import RandomForestRegressor\n",
    "from sklearn.ensemble import GradientBoostingRegressor"
   ]
  },
  {
   "cell_type": "code",
   "execution_count": 78,
   "id": "7e730126",
   "metadata": {},
   "outputs": [
    {
     "name": "stderr",
     "output_type": "stream",
     "text": [
      "C:\\Users\\gkvte\\AppData\\Local\\Temp\\ipykernel_4340\\153579477.py:2: DataConversionWarning: A column-vector y was passed when a 1d array was expected. Please change the shape of y to (n_samples,), for example using ravel().\n",
      "  rfr.fit(X_train, y_train)\n"
     ]
    },
    {
     "data": {
      "text/plain": [
       "99.3495600567916"
      ]
     },
     "execution_count": 78,
     "metadata": {},
     "output_type": "execute_result"
    }
   ],
   "source": [
    "rfr=RandomForestRegressor()\n",
    "rfr.fit(X_train, y_train)\n",
    "rfracc=rfr.score(X_test, y_test)*100\n",
    "rfracc"
   ]
  },
  {
   "cell_type": "code",
   "execution_count": 77,
   "id": "1910f42f",
   "metadata": {},
   "outputs": [
    {
     "name": "stderr",
     "output_type": "stream",
     "text": [
      "C:\\Users\\gkvte\\anaconda3\\lib\\site-packages\\sklearn\\ensemble\\_gb.py:494: DataConversionWarning: A column-vector y was passed when a 1d array was expected. Please change the shape of y to (n_samples, ), for example using ravel().\n",
      "  y = column_or_1d(y, warn=True)\n"
     ]
    },
    {
     "data": {
      "text/plain": [
       "98.43344058851557"
      ]
     },
     "execution_count": 77,
     "metadata": {},
     "output_type": "execute_result"
    }
   ],
   "source": [
    "gbr=GradientBoostingRegressor()\n",
    "gbr.fit(X_train, y_train)\n",
    "prediction=gbr.predict(X_test)\n",
    "gbracc=gbr.score(X_test, y_test)*100\n",
    "gbracc"
   ]
  },
  {
   "cell_type": "code",
   "execution_count": 1,
   "id": "0cb215ba",
   "metadata": {},
   "outputs": [
    {
     "ename": "NameError",
     "evalue": "name 'gbr' is not defined",
     "output_type": "error",
     "traceback": [
      "\u001b[1;31m---------------------------------------------------------------------------\u001b[0m",
      "\u001b[1;31mNameError\u001b[0m                                 Traceback (most recent call last)",
      "\u001b[1;32m~\\AppData\\Local\\Temp\\ipykernel_1300\\699785759.py\u001b[0m in \u001b[0;36m<module>\u001b[1;34m\u001b[0m\n\u001b[1;32m----> 1\u001b[1;33m \u001b[0mgbr\u001b[0m\u001b[1;33m.\u001b[0m\u001b[0mpredict\u001b[0m\u001b[1;33m(\u001b[0m\u001b[1;33m[\u001b[0m\u001b[1;33m[\u001b[0m\u001b[1;36m112.900002\u001b[0m\u001b[1;33m,\u001b[0m\u001b[1;36m118.800003\u001b[0m\u001b[1;33m,\u001b[0m\u001b[1;36m107.142998\u001b[0m\u001b[1;33m,\u001b[0m\u001b[1;36m115.910004\u001b[0m\u001b[1;33m,\u001b[0m\u001b[1;36m0.0\u001b[0m\u001b[1;33m]\u001b[0m\u001b[1;33m]\u001b[0m\u001b[1;33m)\u001b[0m\u001b[1;33m\u001b[0m\u001b[1;33m\u001b[0m\u001b[0m\n\u001b[0m",
      "\u001b[1;31mNameError\u001b[0m: name 'gbr' is not defined"
     ]
    }
   ],
   "source": [
    "pr=gbr.predict([[112.900002,118.800003,107.142998,115.910004,0.0]])\n",
    "pr[0]"
   ]
  },
  {
   "cell_type": "code",
   "execution_count": null,
   "id": "3b8b4d40",
   "metadata": {},
   "outputs": [],
   "source": []
  }
 ],
 "metadata": {
  "kernelspec": {
   "display_name": "Python 3 (ipykernel)",
   "language": "python",
   "name": "python3"
  },
  "language_info": {
   "codemirror_mode": {
    "name": "ipython",
    "version": 3
   },
   "file_extension": ".py",
   "mimetype": "text/x-python",
   "name": "python",
   "nbconvert_exporter": "python",
   "pygments_lexer": "ipython3",
   "version": "3.9.13"
  }
 },
 "nbformat": 4,
 "nbformat_minor": 5
}
